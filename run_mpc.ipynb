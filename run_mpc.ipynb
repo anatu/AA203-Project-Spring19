{
 "cells": [
  {
   "cell_type": "code",
   "execution_count": 1,
   "metadata": {},
   "outputs": [
    {
     "name": "stdout",
     "output_type": "stream",
     "text": [
      "Populating the interactive namespace from numpy and matplotlib\n"
     ]
    }
   ],
   "source": [
    "import numpy as np\n",
    "import scipy as sp\n",
    "import cvxpy as cp\n",
    "import pdb\n",
    "import matplotlib.pyplot as plt\n",
    "%pylab inline"
   ]
  },
  {
   "cell_type": "code",
   "execution_count": 2,
   "metadata": {},
   "outputs": [],
   "source": [
    "'''\n",
    "Declare the arrays that define the dynamical system as well\n",
    "as the cost function for the optimization problem.\n",
    "\n",
    "We have dynamics of the form x' = Ax + Bu (where the system is shifted for trajectory tracking)\n",
    "and a quadratic cost function w/ step cost matrices Q,R and terminal cost P\n",
    "'''\n",
    "A = np.array([[1,1],[0,1]])\n",
    "B = np.array([[0],[1]])\n",
    "\n",
    "n,m = np.shape(B)\n",
    "P = np.eye(n)\n",
    "Q = np.eye(n)\n",
    "R = 10*np.eye(m)"
   ]
  },
  {
   "cell_type": "code",
   "execution_count": 3,
   "metadata": {},
   "outputs": [],
   "source": [
    "'''\n",
    "Declare parameters and state matrices. Includes the prediction horizon over which MPC is solved\n",
    "at every time step, the total time range to calculate on, state/control saturation limits, and\n",
    "initial / final states.\n",
    "'''\n",
    "T = 3 # Prediction Horizon\n",
    "T_tot = 10 # Total Time Horizon\n",
    "\n",
    "xbar = 5 # State limit\n",
    "ubar = .5 # Control limit\n",
    "x_max = xbar; x_min = -xbar;\n",
    "u_max = ubar; u_min = -ubar;\n",
    "\n",
    "u_opt = np.zeros((m,T_tot))\n",
    "X_opt = np.zeros((n,T_tot+1))\n",
    "J_opt = 0\n",
    "\n",
    "\n",
    "x0 = np.array([[-4.5],[2]])\n",
    "x = x0\n",
    "X_opt[:,[0]] = x0\n",
    "xf = np.array([[0],[0]])"
   ]
  },
  {
   "cell_type": "code",
   "execution_count": 4,
   "metadata": {
    "scrolled": true
   },
   "outputs": [
    {
     "data": {
      "image/png": "[encoded data removed]",
      "text/plain": [
       "<Figure size 432x288 with 1 Axes>"
      ]
     },
     "metadata": {
      "needs_background": "light"
     },
     "output_type": "display_data"
    }
   ],
   "source": [
    "'''\n",
    "Declare, solve, and visualize the optimization problem.\n",
    "At every iteration of the total time range T_tot,\n",
    "define a minimization problem of horizion T, solve it, and apply\n",
    "the control action to yield the next state\n",
    "'''\n",
    "\n",
    "obj = 0.0\n",
    "for i in range(0,T_tot):\n",
    "    X = cp.Variable((n,T+1))\n",
    "    U = cp.Variable((m,T))\n",
    "    # pdb.set_trace()\n",
    "    constraints = [   cp.max(X) <= x_max,\n",
    "                      cp.min(X) >= x_min,\n",
    "                      cp.max(U) <= u_max,\n",
    "                      cp.min(U) >= u_min,\n",
    "                      X[:,[0]] == x0,\n",
    "#                      X[:,[-1]] == xf\n",
    "                      X[:,1:] == cp.matmul(A,X[:,:-1])+cp.matmul(B,U)\n",
    "                ]\n",
    "\n",
    "    for j in range(T):\n",
    "        obj += cp.atoms.quad_form(X[:,j], Q)\n",
    "        obj += cp.atoms.quad_form(U[:,j], R)\n",
    "\n",
    "    obj += cp.atoms.quad_form(X[:,T], Q)\n",
    "  \n",
    "\n",
    "    # pdb.set_trace()\n",
    "    prob = cp.Problem(cp.Minimize(obj),constraints)\n",
    "    result = prob.solve()\n",
    "\n",
    "    if result == float('-inf') or result == float('inf'):\n",
    "        print('problem Unbounded... ')\n",
    "        J_opt = float('inf')\n",
    "    else:\n",
    "        u = U[:,[0]].value\n",
    "        u_opt[:,i] = u\n",
    "        x = np.matmul(A,x) + B*u\n",
    "        X_opt[:,[i+1]] = x\n",
    "\n",
    "np.set_printoptions(precision=2)\n",
    "\n",
    "plt.figure()\n",
    "plt.plot(X_opt[0,:],X_opt[1,:])\n",
    "plt.show()\n",
    "# pdb.set_trace()\n",
    "# prob = generateProblem(A,B,P,Q);\n"
   ]
  },
  {
   "cell_type": "code",
   "execution_count": 6,
   "metadata": {},
   "outputs": [
    {
     "data": {
      "text/plain": [
       "0"
      ]
     },
     "execution_count": 6,
     "metadata": {},
     "output_type": "execute_result"
    }
   ],
   "source": [
    "J_opt"
   ]
  },
  {
   "cell_type": "code",
   "execution_count": null,
   "metadata": {},
   "outputs": [],
   "source": []
  }
 ],
 "metadata": {
  "kernelspec": {
   "display_name": "Python 3",
   "language": "python",
   "name": "python3"
  },
  "language_info": {
   "codemirror_mode": {
    "name": "ipython",
    "version": 3
   },
   "file_extension": ".py",
   "mimetype": "text/x-python",
   "name": "python",
   "nbconvert_exporter": "python",
   "pygments_lexer": "ipython3",
   "version": "3.7.1"
  }
 },
 "nbformat": 4,
 "nbformat_minor": 2
}
