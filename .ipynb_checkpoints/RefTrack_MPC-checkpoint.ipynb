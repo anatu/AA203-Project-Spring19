{
 "cells": [
  {
   "cell_type": "code",
   "execution_count": 43,
   "metadata": {},
   "outputs": [
    {
     "name": "stdout",
     "output_type": "stream",
     "text": [
      "Populating the interactive namespace from numpy and matplotlib\n"
     ]
    }
   ],
   "source": [
    "'''\n",
    "Notebook for generic reference tracking of a fixed reference state using CVXPY\n",
    "Formulated using the du method as per Slides 15-16 of lecture 14, and p.254 of BBM book\n",
    "See https://github.com/AtsushiSakai/PythonRobotics/blob/master/PathTracking/model_predictive_speed_and_steer_control/Model_predictive_speed_and_steering_control.ipynb\n",
    "'''\n",
    "import numpy as np\n",
    "import scipy as sp\n",
    "import cvxpy as cp\n",
    "import pdb\n",
    "import matplotlib.pyplot as plt\n",
    "import math\n",
    "import sys\n",
    "%pylab inline"
   ]
  },
  {
   "cell_type": "code",
   "execution_count": 6,
   "metadata": {},
   "outputs": [],
   "source": [
    "'''\n",
    "Declare the arrays that define the dynamical system as well\n",
    "as the cost function for the optimization problem.\n",
    "\n",
    "We have linearized, time-variant dynamics of the form z' = Az + Bu + C \n",
    "and a quadratic cost function w/ step cost matrices Q,R and terminal cost P\n",
    "'''\n",
    "n = 4  # x = x, y, v, yaw\n",
    "m = 2  # u = [accel, steer]\n",
    "\n",
    "Q = np.diag([1.0, 1.0, 0.5, 0.5])\n",
    "P = Q\n",
    "R = np.diag([0.01, 0.01])\n",
    "\n",
    "T = 5  # horizon length\n",
    "SIM_TIME = 500 # max simulation time"
   ]
  },
  {
   "cell_type": "code",
   "execution_count": null,
   "metadata": {},
   "outputs": [],
   "source": [
    "'''\n",
    "Vehicle parameters. Since the dynamics are not time-invariant\n",
    "we will have to recompute the matrices A,B,C at each timestep\n",
    "'''\n",
    "# Physical dimensions\n",
    "LENGTH = 4.5  # [m]\n",
    "WIDTH = 2.0  # [m]\n",
    "BACKTOWHEEL = 1.0  # [m]\n",
    "WHEEL_LEN = 0.3  # [m]\n",
    "WHEEL_WIDTH = 0.2  # [m]\n",
    "TREAD = 0.7  # [m]\n",
    "WB = 2.5  # [m]\n",
    "\n",
    "# Steering and speed limits\n",
    "MAX_STEER = np.deg2rad(45.0)  # maximum steering angle [rad]\n",
    "MAX_DSTEER = np.deg2rad(30.0)  # maximum steering speed [rad/s]\n",
    "MAX_SPEED = 55.0 / 3.6  # maximum speed [m/s]\n",
    "MIN_SPEED = -20.0 / 3.6  # minimum speed [m/s]\n",
    "MAX_ACCEL = 1.0  # maximum accel [m/ss]"
   ]
  },
  {
   "cell_type": "code",
   "execution_count": null,
   "metadata": {},
   "outputs": [],
   "source": [
    "'''\n",
    "State representation. The state is z = [x,y,v,phi]\n",
    "where\n",
    "x' = v*cos(phi)\n",
    "y' = v*sin(phi)\n",
    "v' = a \n",
    "phi' = v*tan(delta)/L\n",
    "\n",
    "phi = yaw\n",
    "delta = steering angle\n",
    "\n",
    "'''\n",
    "class State:\n",
    "    def __init__(self, x=0.0, y=0.0, yaw=0.0, v=0.0):\n",
    "        self.x = x\n",
    "        self.y = y\n",
    "        self.yaw = yaw\n",
    "        self.v = v\n",
    "        self.predelta = None"
   ]
  },
  {
   "cell_type": "code",
   "execution_count": null,
   "metadata": {},
   "outputs": [],
   "source": [
    "def calcDynamics(v, phi, delta):\n",
    "    '''\n",
    "    Helper method to calculate the dynamics matrices\n",
    "    for each time step as the state updates\n",
    "    A, B are linearized representations\n",
    "    '''\n",
    "    A = np.eye(n)\n",
    "    A[0, 2] = DT * math.cos(phi)\n",
    "    A[0, 3] = - DT * v * math.sin(phi)\n",
    "    A[1, 2] = DT * math.sin(phi)\n",
    "    A[1, 3] = DT * v * math.cos(phi)\n",
    "    A[3, 2] = DT * math.tan(delta) / WB\n",
    "\n",
    "    B = np.zeros((NX, NU))\n",
    "    B[2, 0] = DT\n",
    "    B[3, 1] = DT * v / (WB * math.cos(delta) ** 2)\n",
    "\n",
    "    C = np.zeros(NX)\n",
    "    C[0] = DT * v * math.sin(phi) * phi\n",
    "    C[1] = - DT * v * math.cos(phi) * phi\n",
    "    C[3] = - DT * v * delta / (WB * math.cos(delta) ** 2)\n",
    "\n",
    "    return A, B, C"
   ]
  },
  {
   "cell_type": "code",
   "execution_count": 40,
   "metadata": {},
   "outputs": [],
   "source": [
    "'''\n",
    "Declare parameters and state matrices. Includes the prediction horizon over which MPC is solved\n",
    "at every time step, the total time range to calculate on, state/control saturation limits, and\n",
    "initial / final states.\n",
    "'''\n",
    "T = 3 # Prediction Horizon\n",
    "T_tot = 50 # Total Time Horizon\n",
    "\n",
    "xbar = 10 # State limit\n",
    "ubar = .5 # Control limit\n",
    "x_max = xbar; x_min = -xbar;\n",
    "u_max = ubar; u_min = -ubar;\n",
    "\n",
    "# Initial state\n",
    "x0 = np.array([[-4.5],[2.0]])\n",
    "# Terminal state\n",
    "xf = np.array([[0],[0]])"
   ]
  },
  {
   "cell_type": "code",
   "execution_count": 37,
   "metadata": {},
   "outputs": [
    {
     "name": "stdout",
     "output_type": "stream",
     "text": [
      "path reconstructed\n"
     ]
    },
    {
     "data": {
      "image/png": "[encoded data removed]",
      "text/plain": [
       "<Figure size 432x288 with 1 Axes>"
      ]
     },
     "metadata": {
      "needs_background": "light"
     },
     "output_type": "display_data"
    }
   ],
   "source": [
    "'''\n",
    "Compute a reference trajectory to regulate to using AStar. Define an AStar\n",
    "search problem by defining limits on the state-space and a start / goal state, and\n",
    "then running AStar to compute the trajectory as a set of 2D coordinates\n",
    "\n",
    "NOTE: The reference trajectory must obey the system dynamics and control law\n",
    "http://www.cds.caltech.edu/~murray/books/AM08/pdf/obc-trajgen_03Jan10.pdf\n",
    "\n",
    "'''\n",
    "\n",
    "# Solve on state saturation limits\n",
    "width = xbar\n",
    "height = xbar\n",
    "x_init = tuple(x0.flatten())\n",
    "x_goal = (8,8)\n",
    "obstacles = [((6,6),(8,7)),((2,1),(4,2)),((2,4),(4,6)),((6,2),(8,4))]\n",
    "occupancy = DetOccupancyGrid2D(width, height, obstacles)\n",
    "\n",
    "astar = AStar((0, 0), (width, height), x_init, x_goal, occupancy)\n",
    "\n",
    "try:\n",
    "    astar.solve()\n",
    "except ValueError:\n",
    "    print(\"NO PATH FOUND\")\n",
    "\n",
    "    \n",
    "# Form the solution path\n",
    "solution_path = np.array(astar.path) * astar.resolution\n",
    "    \n",
    "# Visualize the reference trajectory\n",
    "astar.plot_path()\n"
   ]
  },
  {
   "cell_type": "code",
   "execution_count": 38,
   "metadata": {},
   "outputs": [
    {
     "name": "stdout",
     "output_type": "stream",
     "text": [
      "[[0. 0.]\n",
      " [0. 1.]\n",
      " [1. 2.]\n",
      " [2. 3.]\n",
      " [3. 3.]\n",
      " [4. 3.]\n",
      " [5. 4.]\n",
      " [5. 5.]\n",
      " [5. 6.]\n",
      " [5. 7.]\n",
      " [6. 8.]\n",
      " [7. 8.]\n",
      " [8. 8.]]\n"
     ]
    }
   ],
   "source": [
    "# View the set of coordinates for the solution path\n",
    "print(solution_path)"
   ]
  },
  {
   "cell_type": "code",
   "execution_count": 41,
   "metadata": {
    "scrolled": true
   },
   "outputs": [
    {
     "data": {
      "image/png": "[encoded data removed]",
      "text/plain": [
       "<Figure size 432x288 with 1 Axes>"
      ]
     },
     "metadata": {
      "needs_background": "light"
     },
     "output_type": "display_data"
    }
   ],
   "source": [
    "'''\n",
    "Declare, solve, and visualize the optimization problem.\n",
    "At every iteration of the total time range T_tot,\n",
    "define a minimization problem of horizion T, solve it, and apply\n",
    "the control action to yield the next state\n",
    "\n",
    "Steps @ each timestep\n",
    "1) Use astar to solve a new trajectory from the current state to the newest terminal state\n",
    "(e.g. the location of the person who the caddy robot is tracking)\n",
    "2) Formulate the optim problem using the next set of points from the current state as the\n",
    "reference state to regulate to for that time step\n",
    "3) Solve and take control action, update current state\n",
    "4) Repeat\n",
    "'''\n",
    "\n",
    "u_opt = np.zeros((m,T_tot))\n",
    "X_opt = np.zeros((n,T_tot+1))\n",
    "X_opt[:,[0]] = x0\n",
    "J_opt = 0\n",
    "\n",
    "# Initialize objective fn. to zero and the state x to initial condition\n",
    "x = x0\n",
    "obj = 0.0\n",
    "# Step through the entire simulation time\n",
    "for i in range(0,T_tot):\n",
    "    X = cp.Variable((n,T+1))\n",
    "    U = cp.Variable((m,T))\n",
    "    constraints = [   cp.max(X) <= x_max,\n",
    "                      cp.min(X) >= x_min,\n",
    "                      cp.max(U) <= u_max,\n",
    "                      cp.min(U) >= u_min,\n",
    "                      X[:,[0]] == x,\n",
    "#                       X[:,[-1]] == xf,\n",
    "                      X[:,1:] == cp.matmul(A,X[:,:-1])+cp.matmul(B,U)\n",
    "                ]\n",
    "\n",
    "    # Stage costs\n",
    "    for j in range(T):\n",
    "        obj += cp.atoms.quad_form(X[:,j], Q)\n",
    "        obj += cp.atoms.quad_form(U[:,j], R)\n",
    "\n",
    "    # Terminal cost\n",
    "    obj += cp.atoms.quad_form(X[:,T], Q)\n",
    "  \n",
    "    # Define and solve optimization problem\n",
    "    prob = cp.Problem(cp.Minimize(obj),constraints)\n",
    "    result = prob.solve()\n",
    "\n",
    "    # Check for convergence\n",
    "    if result == float('-inf') or result == float('inf'):\n",
    "        print('problem Unbounded... ')\n",
    "        J_opt = float('inf')\n",
    "    else:\n",
    "        # Tkae the first control action and apply it to the dynamics\n",
    "        # law to yield the next state, store values\n",
    "        u = U[:,[0]].value\n",
    "        u_opt[:,i] = u\n",
    "        x = np.matmul(A,x) + B*u\n",
    "        X_opt[:,[i+1]] = x\n",
    "\n",
    "        \n",
    "'''\n",
    "Visualize the results\n",
    "'''        \n",
    "np.set_printoptions(precision=2)\n",
    "plt.figure()\n",
    "plt.plot(X_opt[0,:],X_opt[1,:])\n",
    "plt.show()\n",
    "# pdb.set_trace()\n"
   ]
  },
  {
   "cell_type": "code",
   "execution_count": 42,
   "metadata": {},
   "outputs": [
    {
     "name": "stdout",
     "output_type": "stream",
     "text": [
      "[[-4.01e-01 -4.98e-01 -4.75e-01 -3.85e-01 -2.69e-01 -1.56e-01 -6.38e-02\n",
      "   1.89e-03  4.08e-02  5.76e-02  5.83e-02  4.93e-02  3.60e-02  2.22e-02\n",
      "   1.04e-02  1.66e-03 -3.83e-03 -6.50e-03 -7.04e-03 -6.23e-03 -4.75e-03\n",
      "  -3.09e-03 -1.60e-03 -4.54e-04  3.06e-04  7.11e-04  8.38e-04  7.79e-04\n",
      "   6.18e-04  4.22e-04  2.37e-04  8.81e-05 -1.52e-05 -7.45e-05 -9.80e-05\n",
      "  -9.62e-05 -7.96e-05 -5.69e-05 -3.41e-05 -1.50e-05 -1.13e-06  7.32e-06\n",
      "   1.12e-05  1.17e-05  1.01e-05  7.55e-06  4.79e-06  2.37e-06  5.36e-07\n",
      "  -6.44e-07]]\n"
     ]
    }
   ],
   "source": [
    "print(u_opt)"
   ]
  },
  {
   "cell_type": "code",
   "execution_count": null,
   "metadata": {},
   "outputs": [],
   "source": []
  }
 ],
 "metadata": {
  "kernelspec": {
   "display_name": "Python 3",
   "language": "python",
   "name": "python3"
  },
  "language_info": {
   "codemirror_mode": {
    "name": "ipython",
    "version": 3
   },
   "file_extension": ".py",
   "mimetype": "text/x-python",
   "name": "python",
   "nbconvert_exporter": "python",
   "pygments_lexer": "ipython3",
   "version": "3.7.1"
  }
 },
 "nbformat": 4,
 "nbformat_minor": 2
}
